{
 "cells": [
  {
   "cell_type": "code",
   "execution_count": null,
   "metadata": {},
   "outputs": [],
   "source": [
    "import math"
   ]
  },
  {
   "cell_type": "code",
   "execution_count": null,
   "metadata": {},
   "outputs": [],
   "source": [
    "class Field:\n",
    "    def __init__(self, type):\n",
    "        self.field_type = type\n",
    "\n",
    "        self.dimensions = {\n",
    "            1: [50, 100],\n",
    "            2: [150, 400],\n",
    "            3: [600, 450],\n",
    "        }\n",
    "        \n",
    "        self.height = self.dimensions[self.field_type][0]\n",
    "        self.width = self.dimensions[self.field_type][1]\n",
    "\n",
    "        self.board = [[0] * self.width for _ in range(self.height)]\n",
    "        self.setBoard()\n",
    "\n",
    "    def setBoard(self):\n",
    "        if self.field_type == 1:\n",
    "            self.board = [[1] * self.width for _ in range(self.height)]\n",
    "        if self.field_type == 2:\n",
    "            EPSILON = 0.1 ** 6\n",
    "\n",
    "            # Divide the board into sections\n",
    "            # Section 1: Left part (30-60-90 triangle)\n",
    "            standard_angle = math.atan2(150 - 0, 85 + 1)\n",
    "\n",
    "            for column in range(0, 86):\n",
    "                for row in range(0, 150):\n",
    "                    y = 150 - row\n",
    "                    x = column + 1\n",
    "\n",
    "                    angle = math.atan2(y, x)\n",
    "                    if angle < standard_angle + EPSILON:\n",
    "                        self.board[row][column] = 1\n",
    "\n",
    "            # Section 2: Square part\n",
    "            for column in range(86, 236):\n",
    "                for row in range(0, 150):\n",
    "                    self.board[row][column] = 1\n",
    "\n",
    "            # Section 3: Right part (45-45-90 triangle)\n",
    "            standard_angle = math.atan2(150 - 0, 386 - 236)\n",
    "\n",
    "            for column in range(236, 386):\n",
    "                for row in range(0, 150):\n",
    "                    y = 150 - row\n",
    "                    x = 386 - column\n",
    "\n",
    "                    angle = math.atan2(y, x)\n",
    "                    if angle < standard_angle + EPSILON:\n",
    "                        self.board[row][column] = 1\n",
    "\n",
    "    def __repr__(self):\n",
    "        return \"\\n\".join(\n",
    "            [f\"Field type {self.field_type}\"] +\n",
    "            [\"\".join([\"-X\"[cell] for cell in row]) for row in self.board]\n",
    "        )\n"
   ]
  }
 ],
 "metadata": {
  "language_info": {
   "name": "python"
  },
  "orig_nbformat": 4
 },
 "nbformat": 4,
 "nbformat_minor": 2
}
