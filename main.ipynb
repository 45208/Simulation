{
 "cells": [
  {
   "cell_type": "code",
   "execution_count": 1,
   "metadata": {},
   "outputs": [],
   "source": [
    "import math\n",
    "from collections import deque"
   ]
  },
  {
   "cell_type": "code",
   "execution_count": 2,
   "metadata": {},
   "outputs": [],
   "source": [
    "Point = tuple[float, float]\n",
    "\n",
    "# Create a board\n",
    "class Board:\n",
    "    xp, yp = [0, -1, 0, 1], [-1, 0, 1, 0]\n",
    "    EPSILON = 1e-7\n",
    "\n",
    "    def __init__(self, vertices: tuple[Point]):\n",
    "        self.vertices = vertices\n",
    "        assert len(self.vertices) > 2\n",
    "\n",
    "        self.size = 0\n",
    "        for Point in vertices:\n",
    "            self.size = max(self.size, Point[0], Point[1])\n",
    "        self.size = math.ceil(self.size)\n",
    "\n",
    "        self.board = [[False for _ in range(self.size)]\n",
    "                      for _ in range(self.size)]\n",
    "        self.__calculate_board()\n",
    "\n",
    "    def __crossed(self, cx: int, cy: int, nx: int, ny: int) -> bool:\n",
    "        def __counter_clockwise(a: Point, b: Point, c: Point) -> float:\n",
    "            return (a[0]-b[0])*c[1] + (b[0]-c[0])*a[1] + (c[0]-a[0])*b[1]\n",
    "\n",
    "        def __different_half_plane(x: Point, y: Point, a: Point, b: Point) -> bool:\n",
    "            return __counter_clockwise(x, a, b) * __counter_clockwise(y, a, b) < self.EPSILON\n",
    "\n",
    "        def __intersected(c: Point, n: Point, a: Point, b: Point) -> bool:\n",
    "            return __different_half_plane(c, n, a, b) and __different_half_plane(a, b, c, n)\n",
    "\n",
    "        cx, cy = cx + .5, cy + .5\n",
    "        nx, ny = nx + .5, ny + .5\n",
    "        for i in range(len(self.vertices)):\n",
    "            a, b = self.vertices[i-1], self.vertices[i]\n",
    "            if __intersected((cx, cy), (nx, ny), a, b):\n",
    "                return True\n",
    "        return False\n",
    "\n",
    "    def __calculate_board(self):\n",
    "        queue = deque()\n",
    "        queue.append((0, 0))\n",
    "        while len(queue):\n",
    "            cx, cy = queue.popleft()\n",
    "            for xa, ya in zip(self.xp, self.yp):\n",
    "                nx, ny = cx + xa, cy + ya\n",
    "                if self.__crossed(cx, cy, nx, ny):\n",
    "                    continue\n",
    "                if self.board[nx][ny]:\n",
    "                    continue\n",
    "                self.board[nx][ny] = 1\n",
    "                queue.append((nx, ny))\n",
    "\n",
    "    def __repr__(self):\n",
    "        s = \"\"\n",
    "        for y in range(self.size-1, -1, -1):\n",
    "            for x in range(self.size):\n",
    "                s += 'X' if self.board[x][y] else '-'\n",
    "            s += '\\n'\n",
    "        return s\n",
    "\n",
    "BOARD1 = (.0, .0), (100.0, .0), (100.0, 50.0), (.0, 50.0)\n",
    "BOARD2 = (.0, .0), (.0, 386.6025), (150.0, 236.6025), (150.0, 86.6025)\n",
    "BOARD3 = (.0, .0), (450.0, .0), (450.0, 150.0), (150.0, 150.0), (300.0, 600.0), (.0, 450.0)\n",
    "\n"
   ]
  },
  {
   "cell_type": "code",
   "execution_count": null,
   "metadata": {},
   "outputs": [],
   "source": [
    "# Draw manually\n",
    "with open(\"figure1.txt\", \"w\") as file:\n",
    "    print(Board(BOARD1), file=file)\n",
    "\n",
    "with open(\"figure2.txt\", \"w\") as file:\n",
    "    print(Board(BOARD2), file=file)\n",
    "\n",
    "with open(\"figure3.txt\", \"w\") as file:\n",
    "    print(Board(BOARD3), file=file)"
   ]
  }
 ],
 "metadata": {
  "kernelspec": {
   "display_name": "Python 3",
   "language": "python",
   "name": "python3"
  },
  "language_info": {
   "codemirror_mode": {
    "name": "ipython",
    "version": 3
   },
   "file_extension": ".py",
   "mimetype": "text/x-python",
   "name": "python",
   "nbconvert_exporter": "python",
   "pygments_lexer": "ipython3",
   "version": "3.11.3"
  },
  "orig_nbformat": 4
 },
 "nbformat": 4,
 "nbformat_minor": 2
}
